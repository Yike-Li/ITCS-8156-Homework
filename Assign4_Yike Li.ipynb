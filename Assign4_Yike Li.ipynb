{
  "nbformat": 4,
  "nbformat_minor": 0,
  "metadata": {
    "colab": {
      "name": "Assign4_Yike Li.ipynb",
      "provenance": [],
      "toc_visible": true
    },
    "kernelspec": {
      "display_name": "Python 3",
      "language": "python",
      "name": "python3"
    },
    "language_info": {
      "codemirror_mode": {
        "name": "ipython",
        "version": 3
      },
      "file_extension": ".py",
      "mimetype": "text/x-python",
      "name": "python",
      "nbconvert_exporter": "python",
      "pygments_lexer": "ipython3",
      "version": "3.8.3"
    },
    "toc": {
      "base_numbering": 1,
      "nav_menu": {},
      "number_sections": true,
      "sideBar": true,
      "skip_h1_title": false,
      "title_cell": "Table of Contents",
      "title_sidebar": "Contents",
      "toc_cell": false,
      "toc_position": {},
      "toc_section_display": true,
      "toc_window_display": false
    },
    "varInspector": {
      "cols": {
        "lenName": 16,
        "lenType": 16,
        "lenVar": 40
      },
      "kernels_config": {
        "python": {
          "delete_cmd_postfix": "",
          "delete_cmd_prefix": "del ",
          "library": "var_list.py",
          "varRefreshCmd": "print(var_dic_list())"
        },
        "r": {
          "delete_cmd_postfix": ") ",
          "delete_cmd_prefix": "rm(",
          "library": "var_list.r",
          "varRefreshCmd": "cat(var_dic_list()) "
        }
      },
      "types_to_exclude": [
        "module",
        "function",
        "builtin_function_or_method",
        "instance",
        "_Feature"
      ],
      "window_display": false
    }
  },
  "cells": [
    {
      "cell_type": "markdown",
      "metadata": {
        "id": "hkOIt0PYeCds"
      },
      "source": [
        "# Assignment #4 - Reinforcement Learning\n",
        "\n",
        "### <font color=\"red\"> DUE: Dec 1 (Tuesday) 11:00 pm </font>  "
      ]
    },
    {
      "cell_type": "markdown",
      "metadata": {
        "id": "zHCNm_ofeCdv"
      },
      "source": [
        "<font color=\"blue\"> Yike Li </font>"
      ]
    },
    {
      "cell_type": "markdown",
      "metadata": {
        "id": "UCmdWi2HeCdw"
      },
      "source": [
        "# I. Overview\n",
        "\n",
        "**Describe the objective of this assignment. You can briefly state how you accomplish it.**\n",
        "\n",
        "In this assignment, we work on 2 RL problems using NN as the function estimator: the 2D marble movement problem and the mountain car problem. The 2D marble environment is defined based on the 1D marble class provided in the class note. For the second problem, we leverage the mountain car environment in OpenAI and build our RLAgent to interact with the environment. Both problems are straightforward to solve, but we are having tremendous difficulty in having the NN function estimator converged. In this report, we have delivered the best results we can get and visualize the RL agent performance. "
      ]
    },
    {
      "cell_type": "markdown",
      "metadata": {
        "id": "uAuEXcUZeCdw"
      },
      "source": [
        "# II. Problems "
      ]
    },
    {
      "cell_type": "markdown",
      "metadata": {
        "id": "F1XBOaySHGA9"
      },
      "source": [
        "## 2D Marble Control\n",
        "\n",
        "![image.png](attachment:image.png)\n",
        "\n",
        "#### STEPS for 2D Marble\n",
        "\n",
        "1. [II Problems] First, build 2D marble class by extending the Marble class from the class note. \n",
        "2. [II Problems] Explain the environment.\n",
        "3. [III Methods] Build your own RLAgent class to solve the problem.\n",
        "4. [III Methods] Explain your RLAgent (with a neural network function approximator)\n",
        "5. [IV Results]  Discuss the results"
      ]
    },
    {
      "cell_type": "markdown",
      "metadata": {
        "id": "_tbaWC8LeLCr"
      },
      "source": [
        "We import the necessary python packages in the following cell."
      ]
    },
    {
      "cell_type": "code",
      "metadata": {
        "id": "-4lVpEz7eFKx"
      },
      "source": [
        "import numpy as np\n",
        "import matplotlib.pyplot as plt\n",
        "import pandas as pd\n",
        "import IPython.display as ipd  # for display and clear_output\n",
        "import collections\n",
        "from copy import deepcopy as copy"
      ],
      "execution_count": 16,
      "outputs": []
    },
    {
      "cell_type": "markdown",
      "metadata": {
        "id": "gcxmH0M3-6yK"
      },
      "source": [
        "Below we create a `Marble2D` class to build up the environment for the Marble problem in the 2-dimensional space. In the 2-dimensional space, the state of our marble will be 4 dimensions (instead of 2 in the 1D problem): \n",
        "- the x-coordinate of the marble\n",
        "- the y-coordinate of the marble\n",
        "- the velocity along the x-coordinate (dx)\n",
        "- the velocity along the y-coordinate (dy)\n",
        "\n",
        "Correspondingly, we have the action (1 dimensional) with 5 possible values:\n",
        "- action=1: force moving down\n",
        "- action=2: force moving up\n",
        "- action=3: force moving left\n",
        "- action=4: force moving right\n",
        "- action=5: no force\n",
        "\n",
        "In `__init__`, We set our boundary to be a squared region with a length of 10. We have our goal to be a squared region centered at [5,5] with a width of 2. \n",
        "In `next`, whenever the marble exceeds the boundary, it will be placed back to the corresponding boundary (up, down, right, or left) and set velocity along that axis to be 0. Also, if the velocity is above a certain threshold (-5 or 5 in this case), the velocity will be set back to the threshold. \n",
        "\n",
        "For the reward function, if the marble reached the goal region, it is getting reward of 30. Moving a step will cause the reward to be -1. "
      ]
    },
    {
      "cell_type": "code",
      "metadata": {
        "id": "eOKyBxnyeE2q"
      },
      "source": [
        "class Marble2D():\n",
        "    \"\"\" 2D marble problem\n",
        "\n",
        "        states: x, y, dx, dy\n",
        "        action: [[0, -1], [0, 1], [-1, 0], [1, 0], [0, 0]], down, up, left, right, no force, repectively\n",
        "        action: [1:down, 2:up, 3:left, 4:right, 5: no force]\n",
        "\n",
        "\n",
        "    \"\"\"\n",
        "\n",
        "    def __init__(self, goal=[5, 5], **params):\n",
        "        self.n_state = 4  # no. of state, x(position), y(position), dx(velocity on x), dy(velocity on y)\n",
        "        self.n_action = 5  # no. of actions\n",
        "        self.Goal = goal  # position of the goal, should be at 5 (between 4 and 6). Change for 2D.\n",
        "        self.bound = params.pop('bound', [0, 10, 0, 10, -5, 5, -5,\n",
        "                                          5])  # define the bound of each state. first 4 for x and y; last 4 for velocity.\n",
        "        # if len(self.bound) != 8:\n",
        "        #     self.bound = self.bound[:2] + [-5, 5]  # [-5, 5]是速度dx的限制，最大是-5或5\n",
        "\n",
        "        # array([[ 0, -5, -1],\n",
        "        #        [10,  5,  1]]) 下面的输出。第一二三列分别为x，dx和action的范围\n",
        "        # 一二三四五列分别为x,y,dx,dy,action的范围\n",
        "        self._st_range = np.array([self.bound[:2], self.bound[2:4], self.bound[4:6], self.bound[6:8], [1, 4]]).T\n",
        "        self.nnNI = self.n_state + 1  # =5\n",
        "        self.goal_width = 2  # 中标的宽度为1*2=2，以[5, 5]为中心，(x,y)=([4-6], [4-6])都算是goal的区域\n",
        "\n",
        "        self._s = [0, 0, 0, 0]  # _s=current state，起始为[x,y,dx,dy]=[0,0,0,0]\n",
        "\n",
        "    def init(self, start=None):\n",
        "        if start is not None:\n",
        "            self._s = start  # specify starting position\n",
        "        else:  # if starting not given, first ele(x) random within 0-10 and second ele(dx) as 0\n",
        "            self._s = [np.random.randint(self.bound[0], self.bound[1]), np.random.randint(self.bound[2], self.bound[3]),\n",
        "                       0., 0.]\n",
        "        return self._s\n",
        "\n",
        "    def get_random_action(self):\n",
        "        return float(np.random.randint(4) + 1)  # randomly get action from 1 to 4\n",
        "\n",
        "    def get_bound_act(self, a):  # 没用上。应该是用来规范action值的，当a>1取1，a<-1取-1\n",
        "        if a[0] > 5:\n",
        "            return 5\n",
        "        elif a[0] < 1:\n",
        "            return 1\n",
        "        else:\n",
        "            return a[0]\n",
        "\n",
        "    def next(self, a):\n",
        "        s = self._s  # 把当前位置传给s\n",
        "        if isinstance(a, collections.Iterable):  # 判断action a是否为一个iterable(可迭代对象)\n",
        "            a = a[0]  # 如果是，只把第一个ele给a\n",
        "        s1 = copy(s)  # deep copy当前state(s)给下个state(s1)\n",
        "        dT = 0.1  # 0.1是时间，0.1秒\n",
        "\n",
        "        s1[0] += dT * s[2]  # 根据当前x的速度，时间(0.1)*速度为位移，更新下个x\n",
        "        s1[1] += dT * s[3]  # 根据当前y的速度，时间(0.1)*速度为位移，更新下个y\n",
        "        if a == 1: s1[3] += dT * (2 * -1 - 0.2 * s[3])  # 更新dy,Move down,往y轴负方向的力量)\n",
        "        if a == 2: s1[3] += dT * (2 * +1 - 0.2 * s[3])  # 更新dy,Move up,往y轴正方向的力量)\n",
        "        if a == 3: s1[2] += dT * (2 * -1 - 0.2 * s[2])  # 更新dx,Move left,往x轴负方向的力量)\n",
        "        if a == 4: s1[2] += dT * (2 * +1 - 0.2 * s[2])  # 更新dx,Move right,往x轴正方向的力量)\n",
        "        if a == 5: \n",
        "          s1[2] += dT * (2 * 0 - 0.2 * s[2])  # 更新dx, friction\n",
        "          s1[3] += dT * (2 * 0 - 0.2 * s[3])  # 更新dy, friction\n",
        "\n",
        "        # action: [[0, -1], [0, 1], [-1, 0], [1, 0], [0, 0]], down, up, left, right, no force, repectively\n",
        "        # action: [1:down, 2:up, 3:left, 4:right, 5: no force]\n",
        "\n",
        "        # adjust velocity when outside of the track, bound=[0,10,0,10]\n",
        "        if s1[0] < self.bound[0]:  # 当下个x position超出了左边界\n",
        "            s1[:] = [self.bound[0], s1[1], 0, s1[3]]  # 将下个状态设为(x,y,dx,dy)=(0,y,0,dy)\n",
        "        elif s1[0] > self.bound[1]:  # 当下个x position超出了右边界\n",
        "            s1[:] = [self.bound[1], s1[1], 0, s1[3]]  # 将下个状态设为(x,y,dx,dy)=(10,y,0,dy)\n",
        "        elif s1[1] < self.bound[2]:  # 当下个y position超出了下边界\n",
        "            s1[:] = [s1[0], self.bound[2], s1[2], 0]  # 将下个状态设为(x,y,dx,dy)=(x,0,dx,0)\n",
        "        elif s1[1] > self.bound[3]:  # 当下个y position超出了上边界\n",
        "            s1[:] = [s1[0], self.bound[3], s1[2], 0]  # 将下个状态设为(x,y,dx,dy)=(x,10,dx,0)\n",
        "\n",
        "        # 将超出[-5,5]的dx变为-5或5\n",
        "        # _st_range的一二三四五列分别为x,y,dx,dy,action的范围\n",
        "        s1[2] = np.clip(s1[2], self._st_range[0, 2],  # 第一行第三列为-5\n",
        "                        self._st_range[1, 2])  # 第二行第三列为5\n",
        "        # 将超出[-5,5]的dy变为-5或5\n",
        "        s1[3] = np.clip(s1[3], self._st_range[0, 3],  # 第一行第四列为-5\n",
        "                        self._st_range[1, 3])  # 第二行第四列为5\n",
        "\n",
        "        self._s = s1  # 下个状态存为当前状态\n",
        "        return self.get_reward(s, s1, a)  # 根据下个状态确定reward。这里s和a都没用上\n",
        "\n",
        "    def get_cur_state(self):  # 一个class的object用于外面调用的\n",
        "        return self._s\n",
        "\n",
        "    def get_reward(self, s, s1, a):  # 以[5, 5]为中心，(x,y)=([4-6], [4-6])都算是goal的区域\n",
        "        return 30 if abs(s1[0] - self.Goal[0]) < self.goal_width and abs(\n",
        "            s1[1] - self.Goal[1]) < self.goal_width else -1  # 如果在[5-1,5+1]内则为30，否则为-1\n",
        "\n",
        "    def get_state_range(self):  # 一个class的object用于外面调用的\n",
        "        return self._st_range\n",
        "\n",
        "    def get_actions(self):  # 一个class的object用于外面调用的，显示所有可能的action\n",
        "        return np.array([1, 2, 3, 4, 5])\n",
        "\n",
        "    def get_action_index(self, action):  # 一个class的object用于外面调用的，显示当前action的index\n",
        "        return np.where(np.array([1, 2, 3, 4, 5]) == action)[0][0]\n",
        "\n",
        "    def draw_trajectory(self, smplX):  # unused\n",
        "        if smplX.shape[1] == 1: return\n",
        "        plt.plot(smplX[:, 0], smplX[:, 1])\n",
        "        plt.axis([self.bound[0], self.bound[1], -5, 5])\n",
        "        plt.plot(smplX[0, 0], smplX[0, 1], 'go')\n",
        "        plt.plot(self.Goal, 0, 'ro')\n",
        "        # draw a goal region\n",
        "        plt.fill_between([self.Goal - self.goal_width, self.Goal + self.goal_width],\n",
        "                         [-5, -5], [5, 5],\n",
        "                         color=\"red\", alpha=0.3)\n",
        "        plt.xlabel(\"s\")\n",
        "        plt.ylabel(\"s dot\")\n",
        "\n",
        "class Standardizer: \n",
        "    \"\"\" class version of standardization \"\"\"\n",
        "    def __init__(self, X, explore=False):\n",
        "        self._mu = np.mean(X,0)  \n",
        "        self._sigma = np.std(X,0)\n",
        "        if explore:\n",
        "            print (\"mean: \", self._mu)\n",
        "            print (\"sigma: \", self._sigma)\n",
        "            print (\"min: \", np.min(X,0))\n",
        "            print (\"max: \", np.max(X,0))\n",
        "\n",
        "    def set_sigma(self, s):\n",
        "        self._sigma[:] = s\n",
        "\n",
        "    def standardize(self,X):\n",
        "        return (X - self._mu) / self._sigma \n",
        "\n",
        "    def unstandardize(self,X):\n",
        "        return (X * self._sigma) + self._mu "
      ],
      "execution_count": 17,
      "outputs": []
    },
    {
      "cell_type": "markdown",
      "metadata": {
        "id": "90sS2U9SeCdx"
      },
      "source": [
        "## Mountain Car\n",
        "\n",
        "\n",
        "<img src=\"https://gym.openai.com/videos/2019-10-21--mqt8Qj1mwo/MountainCarContinuous-v0/poster.jpg\" data-video-type=\"video/mp4\" data-video-source=\"https://gym.openai.com/videos/2019-10-21--mqt8Qj1mwo/MountainCarContinuous-v0/original.mp4\">\n",
        "\n",
        "\n",
        "\n",
        "#### STEPS for Mountain Car\n",
        "\n",
        "1. [II Problems] Learn the classic mountain car problem and explain it\n",
        "2. [II Problems] Learn how to use the OpenAI Gym \"MountainCarContinuous-v0\" environment ([OpenAI Gym MountainCarContinuous-v0](https://gym.openai.com/envs/MountainCarContinuous-v0/))\n",
        "  2.a. Following the link, by clicking the document tab, you can learn how to install and use openai.gym\n",
        "3. [III Methods] Build your own RLAgent class to solve the problem.\n",
        "4. [III Methods] Explain your RLAgent (with a neural network function approximator)\n",
        "5. [IV Results]  Discuss the results "
      ]
    },
    {
      "cell_type": "markdown",
      "metadata": {
        "id": "TRkXuU182SM6"
      },
      "source": [
        "**[II Problems] Learn the classic mountain car problem and explain it**\n",
        "\n",
        "The mountain car problem is a classic problem in the RL field. It has commonly been used as a benchmark RL problem to evaluate learning algorithms. \n",
        "\n",
        "In this problem, the car is placed between two mountains. The goal is to help the car to drive up the steep hill on the right. We can send commands such as driving left, driving right, or not using the engion. As the gravity of the car is considered and the engine of the car is not powerful to get itself directly to the top of the hill, the car would need to leverage potential energy by driving up to the hill on the left. Eventually, our RL algorithm is to learn the best control strategy that can let the car arrives the destination using a minimum amount of time. \n",
        "\n",
        "**[II Problems] Learn how to use the OpenAI Gym \"MountainCarContinuous-v0\" environment (OpenAI Gym MountainCarContinuous-v0) 2.a. Following the link, by clicking the document tab, you can learn how to install and use openai.gym**\n",
        "\n",
        "OpenAI Gym is a Python package that includes various RL environments.\n",
        "It was developed aiming at becoming a standardized environment and benchmark for RL research.\n",
        "\n",
        "The following code imports the gym package and instantiate the MountainCar environment. From the code output, we can tell the state space of the environment is 2-dimensional: the first element denotes the position of the car and the second gives the velocity of the car. the first element of the state vector (representing the cart’s position) can take on any value in the range -1.2 to 0.6, while the second element (representing the cart’s velocity) can take on any value in the range -0.07 to 0.07. \n",
        "\n",
        "There can be three (discrete) actions: 0, 1 or 2. 0 means move left, 1 means stop the engion, and 2 means move right. "
      ]
    },
    {
      "cell_type": "code",
      "metadata": {
        "id": "T2DZepWh7ULi",
        "colab": {
          "base_uri": "https://localhost:8080/"
        },
        "outputId": "58790eda-e1be-4dbc-df6f-ee7fbcc0bf6d"
      },
      "source": [
        "import gym\n",
        "# Import and initialize Mountain Car Environment\n",
        "env = gym.make('MountainCar-v0')\n",
        "s = env.reset()\n",
        "\n",
        "# the dimension of state and action space\n",
        "print('State space: ', env.observation_space)\n",
        "print('Action space: ', env.action_space)\n",
        "\n",
        "# range of values the elements of the state vector can take\n",
        "print('Lower Bound of state space: ', env.observation_space.low)\n",
        "print('Upper Bound of state space: ', env.observation_space.high)"
      ],
      "execution_count": null,
      "outputs": [
        {
          "output_type": "stream",
          "text": [
            "State space:  Box(-1.2000000476837158, 0.6000000238418579, (2,), float32)\n",
            "Action space:  Discrete(3)\n",
            "Lower Bound of state space:  [-1.2  -0.07]\n",
            "Upper Bound of state space:  [0.6  0.07]\n"
          ],
          "name": "stdout"
        }
      ]
    },
    {
      "cell_type": "markdown",
      "metadata": {
        "id": "brMFG-boDMco"
      },
      "source": [
        "When we interact with the environment by sending an action, it will return us the next state, the reward of the action, and whether 200 steps have been reached. Below code shows when we send an action of 2, the car move slightly to the right and its velocity changes from 0 to a positive value. \n",
        "\n",
        "Depending on the reward, we can update our NN weights and make our network predict better on the best action given the current state."
      ]
    },
    {
      "cell_type": "code",
      "metadata": {
        "id": "KsydSsDFDMpY",
        "colab": {
          "base_uri": "https://localhost:8080/"
        },
        "outputId": "7bdb9937-1932-4e63-a289-2dfa90ac6860"
      },
      "source": [
        "s = env.reset()\n",
        "a = 2\n",
        "s1, reward, done, _ = env.step(action=a)\n",
        "print(f'Current state: {s}, action={a}, next state: {s1}')\n",
        "print(f'Reward: {reward}. Done: {done}')"
      ],
      "execution_count": null,
      "outputs": [
        {
          "output_type": "stream",
          "text": [
            "Current state: [-0.45317946  0.        ], action=2, next state: [-0.45270368  0.00047577]\n",
            "Reward: -1.0. Done: False\n"
          ],
          "name": "stdout"
        }
      ]
    },
    {
      "cell_type": "markdown",
      "metadata": {
        "id": "zCAYk5k9eCdy"
      },
      "source": [
        "# III. Methods\n",
        "\n",
        "-\tRLAgent1 for the first problem\n",
        "-\tExplanation of the RLAgent1\n",
        "-\tRLAgent2 for the first problem\n",
        "-\tExplanation of the RLAgent2"
      ]
    },
    {
      "cell_type": "markdown",
      "metadata": {
        "id": "uNdDoMNHIF2p"
      },
      "source": [
        "## RLAgent1 for the first problem\n",
        "We create an `RLAgent1` to solve the first problem: Marble in a 2D space. Some class objects are defined in `__init__` method: the `n_actions` is the number of possible actions, which is 4 as indicated previously. The weight matrices V and W are defined. We instantiate the Standardizer class to standardize the input matrix of NN function estimator. \n",
        "\n",
        "In `epsilon_greedy`, if we are not randomly picking an action, we are to predict the Q value given the input from the state and the action and from the weight matriices V and W. We are to pick the action that leads to the higher Q value. \n",
        "\n",
        "In `train`, we defined quite a few hyperparameters, like the discount factor gamma, the initial epsilon value, the final epsilon value, the maximum steps, the number of episodes, the number of hidden units, the number of input neurons, and the learning rate. We randomly initialize the weight matrices V and W, then we follow the course example to train the NN function estimator. We continue this training process until we run through all the episodes. "
      ]
    },
    {
      "cell_type": "code",
      "metadata": {
        "id": "uu_np-0weCdz"
      },
      "source": [
        "class RLAgent1:\n",
        "    \"\"\"\n",
        "        Reinforcement Learning Agent Model for Marble2D problem with NN function approximation\n",
        "    \"\"\"\n",
        "\n",
        "    def __init__(self, env):\n",
        "        self.env = env  # 实例化Marble的environment\n",
        "        # self.std = std\n",
        "        self.n_actions = 5  # 五种action，[1,2,3,4,5]\n",
        "\n",
        "        self.V = None\n",
        "        self.W = None\n",
        "        self.rh = None\n",
        "        self.ro = None\n",
        "        # self.stdX = None\n",
        "\n",
        "        # Normalize # 实例化Standardizer这个class，input为state的range(3列)分别为x,dx,action的范围\n",
        "        self.stdX = Standardizer(self.env.get_state_range())\n",
        "        # rewards and step trace\n",
        "        self.rtrace = []  # 这个list用来存每个episode(500步)所得到的reward总和\n",
        "        self.etrace = []  # 用来存每个episode的epsilon值。是呈指数衰减的\n",
        "\n",
        "    def epsilon_greedy(self, e, s):\n",
        "        if np.random.rand() < e:  # <e, random select an action\n",
        "            return np.random.randint(self.n_actions) + 1  # 注意这里+1是把[0,1,2,3,4]选出的数变成[1,2,3,4,5]其中一个\n",
        "        else:  # >=e, select by the (predicted) max Q value\n",
        "            # forward返回两个元素，只取第一个output Y。np.tile将s=(x,y,dx,dy)重复5遍变成一列叠起来成为5*5矩阵.\n",
        "            # 后面部分把[1,2,3,4,5]变成一列。然后5*5和5*1矩阵横向合并变为5*5矩阵，这个矩阵作为NN的input。乘以weight就算出output\n",
        "            # 这里输出的Q为4*1矩阵，代表每个action所对应的Q value。我们选最大Q value所对应的action\n",
        "            Q, _ = self.forward(np.hstack((np.tile(s, (5, 1)), self.env.get_actions().reshape((-1, 1)))))\n",
        "            max_as = np.where(Q == np.max(Q))[0] + 1  # 找到Q value最大的index，并加1，这样对应到[1,2,3,4,5]这5个action上\n",
        "            return np.random.choice(max_as)  # 如果有多个最大Q value，随机选取一个\n",
        "\n",
        "    # Add constant column of 1's。为input matrix加一列1，再进行forward pass\n",
        "    def addOnes(self, A):\n",
        "        return np.insert(A, 0, 1, axis=len(np.array(A).shape) - 1)\n",
        "\n",
        "    def forward(self, X):\n",
        "        X = self.stdX.standardize(X)  # 先standardize，然后再addOnes\n",
        "        # Forward pass on training data。\n",
        "        X1 = self.addOnes(X)\n",
        "        Z = np.tanh(X1 @ self.V)  # 用tanh作为activation function\n",
        "        Z1 = self.addOnes(Z)  # 再加一列1作为bias\n",
        "        Y = Z1 @ self.W  # Y为输出\n",
        "        return Y, Z\n",
        "\n",
        "    def as_array(self, A):  # 把输入object变为numpy array\n",
        "        A = np.array(A)\n",
        "        if len(A.shape) == 1:\n",
        "            return A.reshape((1, -1))\n",
        "        return A\n",
        "\n",
        "    def backward(self, error, Z, X):\n",
        "        ### make sure the array shapes。确保array都是对的形状\n",
        "        X = self.as_array(X)\n",
        "        Z = self.as_array(Z)\n",
        "        E = self.as_array(error)  # error是输出与真实值的差值\n",
        "\n",
        "        Z1 = self.addOnes(Z)  # 同样加一列1为bias column\n",
        "        X1 = self.addOnes(X)  # 同样加一列1为bias column\n",
        "\n",
        "        # Backward pass - the backpropagation and weight update steps\n",
        "        dV = self.rh * X1.T @ ((E @ self.W[1:, :].T) * (1 - Z ** 2))  # tanh的梯度公式\n",
        "        dW = self.ro * Z1.T @ E  # tanh的梯度公式\n",
        "        return dV, dW\n",
        "\n",
        "    def train(self, start=[2,2], **params):\n",
        "        # Parameters\n",
        "        gamma = params.pop('gamma', 0.9)  # discount factor\n",
        "        K = params.pop('K', 500)  # no. of episodes\n",
        "        epsilon = params.pop('epsilon', 1.)  # epsilon的最大值。大于等于当前值，选Q value最大的action\n",
        "        final_epsilon = params.pop('final_epsilon', 0.1)  # 最后(最小)的epsilon值\n",
        "        max_steps = params.pop('max_steps', 500)  # no. of steps within each episode\n",
        "        verbose = params.pop('verbose', True)  # if True, print training details\n",
        "        plot = params.pop('plot', False)  # if True, print training details\n",
        "        epsilon_decay = np.exp(np.log(final_epsilon) / K)  # epsilon指数递减，刚开始勇于explore，后来偏向exploitation\n",
        "        ####################\n",
        "        nHiddens = params.pop('nHiddens', 5)  # 5个hidden neuron\n",
        "        nSamples = params.pop('nSamples', 1)  # 1个sample？不太懂\n",
        "        nOutputs = params.pop('nOutputs', 1)  # 1个output，输出是预测下一步每个action对应的Q value\n",
        "        nInputs = params.pop('nInputs', 5)  # 因为有5个action，所以6个input\n",
        "        max_iter = params.pop('max_iter', 10)  # code里没用到。总共train 10个iteration？\n",
        "        rhoh = params.pop('rhoh', 0.01)  # 定学习率，输入层(V)和输出层(W)\n",
        "        rhoo = params.pop('rhoo', 0.01)  # 定学习率，输入层(V)和输出层(W)\n",
        "\n",
        "        self.rh = rhoh / (nSamples * nOutputs)\n",
        "        self.ro = rhoo / (nSamples * nOutputs)\n",
        "\n",
        "        # Initialize weights to uniformly distributed values between small normally-distributed between -0.1 and 0.1\n",
        "        # 5+1个input（有一个是bias），5个hidden neuron，合成6*6的matrix\n",
        "        self.V = 0.1 * 2 * (np.random.uniform(size=(nInputs + 1, nHiddens)) - 0.5)\n",
        "        # 6+1个input（有一个是bias），1个output，合成6*1的matrix\n",
        "        self.W = 0.1 * 2 * (np.random.uniform(size=(1 + nHiddens, nOutputs)) - 0.5)\n",
        "\n",
        "        # rewards and step trace\n",
        "        self.rtrace = []  # 这个list用来存每个episode(500步)所得到的reward总和\n",
        "        self.etrace = [epsilon]  # 用来存每个episode的epsilon值。是呈指数衰减的\n",
        "        for j in range(K):\n",
        "\n",
        "            if verbose and (j + 1) % 100 == 0: print(\"\\tepisode #\", j, \"   \", end=\"\")\n",
        "            self.env.init(start + [0, 0])  # [float(np.random.randint(-5, 5, 1)), 0]). 初始化为从位置[2,2]开始，加速度dx dy为0\n",
        "            s = self.env.get_cur_state()  # 将现在的state值传给s，这里的s是个list\n",
        "            # selection an action\n",
        "            a = self.epsilon_greedy(epsilon, s)  # 根据当前state来选action。Q value是用NN来predict每个action的Q value，从中取最大\n",
        "\n",
        "            rewards = []  # 用来存放每一步(step)的reward，每个episode会清空这个list\n",
        "            trace = np.array(s)  # 把list的s变成array\n",
        "            for step in range(max_steps):\n",
        "                # if verbose: print(\"\\tstep #\", step, \"   \", end=\"\")\n",
        "                # move\n",
        "                r1 = self.env.next(a)  # 从当前状态和选取的action获得reward, 这步会同时更新当前状态env.get_cur_state()\n",
        "                s1 = self.env.get_cur_state()  # 得到下个状态\n",
        "                a1 = self.epsilon_greedy(epsilon, s1)  # 根据下个状态s1来选下个action\n",
        "\n",
        "                rewards.append(r1)  # 把每个step的reward存到list\n",
        "                trace = np.vstack((trace, s1))  # 把每步的(x,dx)存到trace里，后面来plot\n",
        "\n",
        "                # update neural networks\n",
        "                Q1, _ = self.forward(np.hstack((s1, a1)))  # output of neural network is Q for next state\n",
        "                Q, Z = self.forward(np.hstack((s, a)))  # output of neural network is Q for next state\n",
        "                error = r1 + gamma * Q1 - Q  # use action value as index by adding one\n",
        "                dV, dW = self.backward(error, Z, np.hstack((s, a)))  # 用backward算出更新梯度\n",
        "                self.V += dV  # 进行更新\n",
        "                self.W += dW  # 进行更新\n",
        "\n",
        "                s = s1  # 移动到下个state\n",
        "                a = a1  # 下个action变为当前action\n",
        "\n",
        "            epsilon *= epsilon_decay  # 让epsilon随着episode衰减\n",
        "            self.etrace.append(epsilon)  # 存放epsilon\n",
        "\n",
        "            if verbose and (j + 1) % 100 == 0: print(\"Done (\", np.sum(rewards), \")\", f'final step={step}')\n",
        "\n",
        "            self.rtrace.append(np.sum(rewards))\n",
        "\n",
        "        if plot:\n",
        "            fig = plt.figure(figsize=(16, 8))\n",
        "            fig.add_subplot(121)\n",
        "            plt.plot(self.rtrace, \"b-\")\n",
        "            plt.ylabel(\"sum of rewards\")\n",
        "            plt.title(\"Reward of each Episode\")\n",
        "            fig.add_subplot(122)\n",
        "            plt.plot(trace[:, 0], trace[:, 1], \"k-\")\n",
        "            plt.fill_between([self.env.Goal[0] - self.env.goal_width, self.env.Goal[0] + self.env.goal_width],\n",
        "                              [self.env.Goal[1] - self.env.goal_width, self.env.Goal[1] - self.env.goal_width],\n",
        "                              [self.env.Goal[1] + self.env.goal_width, self.env.Goal[1] + self.env.goal_width],\n",
        "                              color='red', alpha=0.3)\n",
        "            plt.title(\"trace of last episode\")\n",
        "            plt.xlim([0, 10])\n",
        "            plt.ylim([0, 10])\n",
        "            plt.show()"
      ],
      "execution_count": 18,
      "outputs": []
    },
    {
      "cell_type": "markdown",
      "metadata": {
        "id": "mrPKYY-vIWBT"
      },
      "source": [
        "## RLAgent2 for the second problem\n",
        "We create an `RLAgent2` to solve the second problem: the mountain car problem. Some class objects are defined in `__init__` method: the `n_actions` is the number of possible actions, which is 3 as indicated previously. The weight matrices V and W are defined. We instantiate the Standardizer class to standardize the input matrix of NN function estimator. \n",
        "\n",
        "In `epsilon_greedy`, if we are not randomly picking an action, we are to predict the Q value given the input from the state and the action and from the weight matriices V and W. We are to pick the action that leads to the higher Q value. \n",
        "\n",
        "In `train`, we defined quite a few hyperparameters, like the discount factor gamma, the initial epsilon value, the final epsilon value, the maximum steps, the number of episodes, the number of hidden units, the number of input neurons, and the learning rate. The values are close to our first problem. We randomly initialize the weight matrices V and W, then we follow the course example to train the NN function estimator. How we interact with the MountainCar environment has been elaborated in the previous section. We are to go through **200** steps during each episode. We continue this training process until we run through all the episodes. "
      ]
    },
    {
      "cell_type": "code",
      "metadata": {
        "id": "UvVqvpqHgfSN"
      },
      "source": [
        "class RLAgent2:\n",
        "    \"\"\"\n",
        "        Reinforcement Learning Agent Model for Mountain Car problem with NN function approximation\n",
        "        s=[x,dx]\n",
        "        a=[0,1,2]\n",
        "    \"\"\"\n",
        "\n",
        "    def __init__(self, env):\n",
        "        self.env = env  # 实例化Marble的environment\n",
        "        # Determine size of discretized space, (x,dx)=(position, velocity), 19*15. ele-wise multiplication\n",
        "        # self.n_state = (self.env.observation_space.high - self.env.observation_space.low) * np.array([10, 100])\n",
        "        # self.n_state = np.round(self.n_state, 0).astype(int) + 1  # round to float state to int\n",
        "\n",
        "        self.n_actions = env.action_space.n  # 3 actions\n",
        "        self.actions = np.array([0, 1, 2])  # 3 actions\n",
        "\n",
        "        self.V = None\n",
        "        self.W = None\n",
        "        self.rh = None\n",
        "        self.ro = None\n",
        "\n",
        "        # Initialize variables to track rewards\n",
        "        self.rtrace = []\n",
        "        self.avg_reward_list = []\n",
        "\n",
        "        # Normalize # 实例化Standardizer这个class，input为state的range(3列)分别为x,dx,action的范围\n",
        "        self._st_range = np.vstack((np.append(self.env.observation_space.low, np.array([0]), axis=0),\n",
        "                                    np.append(self.env.observation_space.high, np.array([2]), axis=0)))\n",
        "        self.stdX = Standardizer(self._st_range)\n",
        "\n",
        "    def epsilon_greedy(self, e, s):\n",
        "        if np.random.rand() < e:  # <e, random select an action\n",
        "            return np.random.randint(0, env.action_space.n)  # [0,1,2]中选一个\n",
        "        else:  # >=e, select by the (predicted) max Q value\n",
        "            # forward返回两个元素，只取第一个output Y。np.tile将s=(x,dx)重复3遍变成一列叠起来成为3*2矩阵.\n",
        "            # 后面部分把[-1,0,1]变成一列。然后3*2和3*1矩阵横向合并变为3*3矩阵，这个矩阵作为NN的input。乘以weight就算出output\n",
        "            # 这里输出的Q为3*1矩阵，代表每个action所对应的Q value。我们选最大Q value所对应的action\n",
        "            Q, _ = self.forward(np.hstack((np.tile(s, (self.n_actions, 1)), self.actions.reshape((-1, 1)))))\n",
        "            max_as = np.where(Q == np.max(Q))[0]  # 找到Q value最大的index\n",
        "            return np.random.choice(max_as)  # 如果有多个最大Q value，随机选取一个\n",
        "\n",
        "    # Add constant column of 1's。为input matrix加一列1，再进行forward pass\n",
        "    def addOnes(self, A):\n",
        "        return np.insert(A, 0, 1, axis=len(np.array(A).shape) - 1)\n",
        "\n",
        "    def forward(self, X):\n",
        "        X = self.stdX.standardize(X)  # 先standardize，然后再addOnes\n",
        "        # Forward pass on training data。\n",
        "        X1 = self.addOnes(X)\n",
        "        Z = np.tanh(X1 @ self.V)  # 用tanh作为activation function\n",
        "        Z1 = self.addOnes(Z)  # 再加一列1作为bias\n",
        "        Y = Z1 @ self.W  # Y为输出\n",
        "        return Y, Z\n",
        "\n",
        "    def as_array(self, A):  # 把输入object变为numpy array\n",
        "        A = np.array(A)\n",
        "        if len(A.shape) == 1:\n",
        "            return A.reshape((1, -1))\n",
        "        return A\n",
        "\n",
        "    def backward(self, error, Z, X):\n",
        "        ### make sure the array shapes。确保array都是对的形状\n",
        "        X = self.as_array(X)\n",
        "        Z = self.as_array(Z)\n",
        "        E = self.as_array(error)  # error是输出与真实值的差值\n",
        "\n",
        "        Z1 = self.addOnes(Z)  # 同样加一列1为bias column\n",
        "        X1 = self.addOnes(X)  # 同样加一列1为bias column\n",
        "\n",
        "        # Backward pass - the backpropagation and weight update steps\n",
        "        dV = self.rh * X1.T @ ((E @ self.W[1:, :].T) * (1 - Z ** 2))  # tanh的梯度公式\n",
        "        dW = self.ro * Z1.T @ E  # tanh的梯度公式\n",
        "        return dV, dW\n",
        "\n",
        "    def train(self, **params):\n",
        "        # Parameters\n",
        "        gamma = params.pop('gamma', 0.9)  # discount factor\n",
        "        K = params.pop('K', 500)  # no. of episodes\n",
        "        epsilon = params.pop('epsilon', 1.)  # epsilon的最大值。大于等于当前值，选Q value最大的action\n",
        "        final_epsilon = params.pop('final_epsilon', 0.1)  # 最后(最小)的epsilon值\n",
        "        max_steps = params.pop('max_steps', 500)  # no. of steps within each episode\n",
        "        verbose = params.pop('verbose', True)  # if True, print training details\n",
        "        plot = params.pop('plot', False)  # if True, plot the end result\n",
        "        epsilon_decay = np.exp(np.log(final_epsilon) / K)  # epsilon指数递减，刚开始勇于explore，后来偏向exploitation\n",
        "        ####################\n",
        "        nHiddens = params.pop('nHiddens', 5)  # 5个hidden neuron\n",
        "        nSamples = params.pop('nSamples', 1)  # 1个sample？不太懂\n",
        "        nOutputs = params.pop('nOutputs', 1)  # 1个output，输出是预测下一步每个action对应的Q value\n",
        "        nInputs = params.pop('nInputs', self.n_actions)  # 因为有3个action，所以4个input\n",
        "        max_iter = params.pop('max_iter', 10)  # code里没用到。总共train 10个iteration？\n",
        "        rhoh = params.pop('rhoh', 0.01)  # 定学习率，输入层(V)和输出层(W)\n",
        "        rhoo = params.pop('rhoo', 0.01)  # 定学习率，输入层(V)和输出层(W)\n",
        "        ####################\n",
        "        self.rh = rhoh / (nSamples * nOutputs)\n",
        "        self.ro = rhoo / (nSamples * nOutputs)\n",
        "\n",
        "        # Initialize weights to uniformly distributed values between small normally-distributed between -0.1 and 0.1\n",
        "        # 4+1个input（有一个是bias），5个hidden neuron，合成5*6的matrix\n",
        "        self.V = 0.1 * 2 * (np.random.uniform(size=(nInputs + 1, nHiddens)) - 0.5)\n",
        "        # 6+1个input（有一个是bias），1个output，合成6*1的matrix\n",
        "        self.W = 0.1 * 2 * (np.random.uniform(size=(1 + nHiddens, nOutputs)) - 0.5)\n",
        "\n",
        "        # rewards and step trace\n",
        "        self.rtrace = []  # 这个list用来存每个episode(500步)所得到的reward总和\n",
        "        etrace = [epsilon]  # 用来存每个episode的epsilon值。是呈指数衰减的\n",
        "        for j in range(K):\n",
        "\n",
        "            # if verbose: print(\"\\tepisode #\", j, \"   \", end=\"\")\n",
        "            # Initialize parameters\n",
        "            done = False\n",
        "            s = self.env.reset()  # reset env, [x,dx]\n",
        "\n",
        "            # discretize state\n",
        "            # s_adj = (s - env.observation_space.low) * np.array([10, 100])\n",
        "            # s_adj = np.round(s_adj, 0).astype(int)\n",
        "\n",
        "            a = self.epsilon_greedy(epsilon, s)  # 得到下步action\n",
        "\n",
        "            rewards = []  # 用来存放每一步(step)的reward，每个episode会清空这个list\n",
        "            trace = np.array(s)  # 把list的s变成array\n",
        "            while done is False:\n",
        "                # Render environment for last five episodes\n",
        "                # if j >= (K - 5):\n",
        "                #     env.render()\n",
        "                # 根据当前state来选action。Q value是用NN来predict每个action的Q value，从中取最大\n",
        "\n",
        "                # if verbose: print(\"\\tstep #\", step, \"   \", end=\"\")\n",
        "                # move\n",
        "                s1, r1, done, info = self.env.step(a)  # 从当前状态和选取的action获得reward等信息\n",
        "\n",
        "                # discretize state\n",
        "                # s1_adj = (s1 - env.observation_space.low) * np.array([10, 100])\n",
        "                # s1_adj = np.round(s1_adj, 0).astype(int)\n",
        "\n",
        "                # 得到下个action\n",
        "                a1 = self.epsilon_greedy(epsilon, s1)  # 根据下个状态s1来选下个action\n",
        "\n",
        "                rewards.append(r1)  # 把每个step的reward存到list\n",
        "                trace = np.vstack((trace, s1))  # 把每步的(x,dx)存到trace里，后面来plot\n",
        "\n",
        "                # update neural networks\n",
        "                Q1, _ = self.forward(np.hstack((s1, a1)))  # output of neural network is Q for next state\n",
        "                Q, Z = self.forward(np.hstack((s, a)))  # output of neural network is Q for next state\n",
        "                error = r1 + gamma * Q1 - Q  # use action value as index by adding one\n",
        "                dV, dW = self.backward(error, Z, np.hstack((s, a)))  # 用backward算出更新梯度\n",
        "                self.V += dV  # 进行更新\n",
        "                self.W += dW  # 进行更新\n",
        "\n",
        "                s = s1  # 移动到下个state\n",
        "                a = a1  # 下个action变为当前action\n",
        "\n",
        "            epsilon *= epsilon_decay  # 让epsilon随着episode衰减\n",
        "            etrace.append(epsilon)  # 存放epsilon\n",
        "\n",
        "            if verbose and (j + 1) % 100 == 0: print(f\"Episode {j} Done (\", np.sum(rewards), \")\")\n",
        "\n",
        "            self.rtrace.append(np.sum(rewards))\n",
        "\n",
        "        if plot:\n",
        "            # Plot Rewards\n",
        "            fig = plt.figure(figsize=(8, 8))\n",
        "            plt.plot(self.rtrace, \"b-\")\n",
        "            plt.ylabel(\"sum of rewards\")\n",
        "            plt.title(\"Reward of each Episode\")\n",
        "            plt.show()\n",
        "\n",
        "        env.close()"
      ],
      "execution_count": null,
      "outputs": []
    },
    {
      "cell_type": "markdown",
      "metadata": {
        "id": "Tf29WdDAeCd3"
      },
      "source": [
        "# IV - Results\n",
        "\n",
        "- Describe the choice of your hyper-parameters for $\\gamma$, $\\epsilon$, the learning rates $\\rho$'s, and the number of hiddend units (or other NN hyper-parameters). \n",
        "  - Run experiments to find good hyper-parameters\n",
        "  - Show the experimental outputs to show the process of your selection\n",
        "- Visualize the results and explain outputs \n",
        "  - Run the codes and tell me what you observe\n",
        "  - Add more visualizations to enrich your explanation."
      ]
    },
    {
      "cell_type": "markdown",
      "metadata": {
        "id": "2y549Mixlur9"
      },
      "source": [
        "## Results for the First Problem\n",
        "There are lots of hyper-parameters to be tuned for both RL problems. We are to tune the:\n",
        "- $\\gamma$ (discounting factor)\n",
        "- learning rate $\\alpha$ (we tune `rhoh` and `rhoo` at the same time, named as $\\alpha$)\n",
        "- $\\epsilon$ (we tune the **final epsilon value** only and **remains the initial epsilon value as 1**)\n",
        "- no. of hidden neurons\n",
        "\n",
        "We define the function below to locate good hyper-parameter combinations for our experiment. We use grid search to find the optimal combination of $(\\gamma, \\alpha, \\epsilon, nHidden)$, in which $\\gamma \\in \\lbrace0.9,0.99\\rbrace, \\alpha\\in\\lbrace0.01,0.1\\rbrace, \\epsilon\\in\\lbrace0.1,0.2\\rbrace$, and nHiddens$\\in\\lbrace5,10\\rbrace$.\n",
        "\n",
        "We create the following function to learn the RL agent with different hyparameter combinations and records their performance regarding the end reward. We train the agent using 100 episodes and record the average end reward for the last 20 episodes, for each hyparameter setting.\n",
        "\n",
        "The performance of each hyparameter setting will be stored in a pandas dataframe, `result_df`.\n"
      ]
    },
    {
      "cell_type": "code",
      "metadata": {
        "id": "5ambNm5IlvK5"
      },
      "source": [
        "def grid_search_RL_params(RLAgent, env, gamma_input: list, alpha_input: list, epsilon_input: list, nHiddens_input: list,\n",
        "                          debug=False):\n",
        "    \"\"\"\n",
        "    Parameters\n",
        "    ----------\n",
        "    gamma_input: a list of gammas, discount rate\n",
        "    alpha_input: a list of alpha, learning rate\n",
        "    epsilon_input: a list of epsilon, the final epsilon\n",
        "    nHiddens_input: a list of hidden units to try out\n",
        "\n",
        "    Returns\n",
        "    -------\n",
        "    result_df: df which stores the param combinations and the performance\n",
        "    \"\"\"\n",
        "    columns = ['RL_param', 'Average End Reward']\n",
        "    result_df = pd.DataFrame(columns=columns)  # create empty dataframe to store results\n",
        "    import itertools\n",
        "    gs_options = list(itertools.product(gamma_input, alpha_input, epsilon_input, nHiddens_input))\n",
        "    for param_combination in gs_options:\n",
        "        gamma, alpha, epsilon, nHiddens = param_combination\n",
        "        print(f'Hyperparameter {param_combination} training starts...')\n",
        "        # instantiate and reset\n",
        "        agent = RLAgent(env)\n",
        "        agent.train(K=100, max_steps=500, gamma=gamma, rhoh=alpha, rhoo=alpha, epsilon=epsilon,\n",
        "                    nHiddens=nHiddens, verbose=debug, plot=False)\n",
        "          \n",
        "        #  print(f'Hyperparameter {param_combination} training complete.')\n",
        "        avg_end_reward = np.mean(agent.rtrace[-int(20):])  # take the last 20 episodes\n",
        "        result_df = result_df.append(\n",
        "            {'RL_param': param_combination, 'Average End Reward': avg_end_reward}, ignore_index=True)\n",
        "    if debug:\n",
        "        return agent.rtrace, result_df\n",
        "    else:\n",
        "        return result_df"
      ],
      "execution_count": 19,
      "outputs": []
    },
    {
      "cell_type": "markdown",
      "metadata": {
        "id": "H8GrzNis5F9X"
      },
      "source": [
        "Then we conduct the hyperparameter grid search, using the grid parameters of  𝛾 ,  𝛼 , and  𝜖  mentioned above. Then we print the grid search result, `gs_result`, which gives the average end reward for the last 50 episodes. "
      ]
    },
    {
      "cell_type": "code",
      "metadata": {
        "id": "pu-88AFI5Gb8",
        "colab": {
          "base_uri": "https://localhost:8080/"
        },
        "outputId": "b068998e-c3f7-42d5-f640-96d6dac521b9"
      },
      "source": [
        "gs_result = grid_search_RL_params(RLAgent1, Marble2D(), [0.9, 0.99], [0.01, 0.1], [0.1, 0.2], [5, 10], debug=False)"
      ],
      "execution_count": 20,
      "outputs": [
        {
          "output_type": "stream",
          "text": [
            "Hyperparameter (0.9, 0.01, 0.1, 5) training starts...\n",
            "Hyperparameter (0.9, 0.01, 0.1, 10) training starts...\n",
            "Hyperparameter (0.9, 0.01, 0.2, 5) training starts...\n",
            "Hyperparameter (0.9, 0.01, 0.2, 10) training starts...\n",
            "Hyperparameter (0.9, 0.1, 0.1, 5) training starts...\n",
            "Hyperparameter (0.9, 0.1, 0.1, 10) training starts...\n",
            "Hyperparameter (0.9, 0.1, 0.2, 5) training starts...\n",
            "Hyperparameter (0.9, 0.1, 0.2, 10) training starts...\n",
            "Hyperparameter (0.99, 0.01, 0.1, 5) training starts...\n",
            "Hyperparameter (0.99, 0.01, 0.1, 10) training starts...\n",
            "Hyperparameter (0.99, 0.01, 0.2, 5) training starts...\n",
            "Hyperparameter (0.99, 0.01, 0.2, 10) training starts...\n",
            "Hyperparameter (0.99, 0.1, 0.1, 5) training starts...\n",
            "Hyperparameter (0.99, 0.1, 0.1, 10) training starts...\n",
            "Hyperparameter (0.99, 0.1, 0.2, 5) training starts...\n",
            "Hyperparameter (0.99, 0.1, 0.2, 10) training starts...\n"
          ],
          "name": "stdout"
        }
      ]
    },
    {
      "cell_type": "code",
      "metadata": {
        "id": "wxSigVcp8cgs",
        "colab": {
          "base_uri": "https://localhost:8080/",
          "height": 527
        },
        "outputId": "ad4b26fb-b000-408a-b91d-7260cfb5ba92"
      },
      "source": [
        "gs_result"
      ],
      "execution_count": 21,
      "outputs": [
        {
          "output_type": "execute_result",
          "data": {
            "text/html": [
              "<div>\n",
              "<style scoped>\n",
              "    .dataframe tbody tr th:only-of-type {\n",
              "        vertical-align: middle;\n",
              "    }\n",
              "\n",
              "    .dataframe tbody tr th {\n",
              "        vertical-align: top;\n",
              "    }\n",
              "\n",
              "    .dataframe thead th {\n",
              "        text-align: right;\n",
              "    }\n",
              "</style>\n",
              "<table border=\"1\" class=\"dataframe\">\n",
              "  <thead>\n",
              "    <tr style=\"text-align: right;\">\n",
              "      <th></th>\n",
              "      <th>RL_param</th>\n",
              "      <th>Average End Reward</th>\n",
              "    </tr>\n",
              "  </thead>\n",
              "  <tbody>\n",
              "    <tr>\n",
              "      <th>0</th>\n",
              "      <td>(0.9, 0.01, 0.1, 5)</td>\n",
              "      <td>247.10</td>\n",
              "    </tr>\n",
              "    <tr>\n",
              "      <th>1</th>\n",
              "      <td>(0.9, 0.01, 0.1, 10)</td>\n",
              "      <td>-500.00</td>\n",
              "    </tr>\n",
              "    <tr>\n",
              "      <th>2</th>\n",
              "      <td>(0.9, 0.01, 0.2, 5)</td>\n",
              "      <td>-461.25</td>\n",
              "    </tr>\n",
              "    <tr>\n",
              "      <th>3</th>\n",
              "      <td>(0.9, 0.01, 0.2, 10)</td>\n",
              "      <td>-500.00</td>\n",
              "    </tr>\n",
              "    <tr>\n",
              "      <th>4</th>\n",
              "      <td>(0.9, 0.1, 0.1, 5)</td>\n",
              "      <td>-298.50</td>\n",
              "    </tr>\n",
              "    <tr>\n",
              "      <th>5</th>\n",
              "      <td>(0.9, 0.1, 0.1, 10)</td>\n",
              "      <td>121.55</td>\n",
              "    </tr>\n",
              "    <tr>\n",
              "      <th>6</th>\n",
              "      <td>(0.9, 0.1, 0.2, 5)</td>\n",
              "      <td>262.60</td>\n",
              "    </tr>\n",
              "    <tr>\n",
              "      <th>7</th>\n",
              "      <td>(0.9, 0.1, 0.2, 10)</td>\n",
              "      <td>-8.65</td>\n",
              "    </tr>\n",
              "    <tr>\n",
              "      <th>8</th>\n",
              "      <td>(0.99, 0.01, 0.1, 5)</td>\n",
              "      <td>-115.60</td>\n",
              "    </tr>\n",
              "    <tr>\n",
              "      <th>9</th>\n",
              "      <td>(0.99, 0.01, 0.1, 10)</td>\n",
              "      <td>42.50</td>\n",
              "    </tr>\n",
              "    <tr>\n",
              "      <th>10</th>\n",
              "      <td>(0.99, 0.01, 0.2, 5)</td>\n",
              "      <td>400.55</td>\n",
              "    </tr>\n",
              "    <tr>\n",
              "      <th>11</th>\n",
              "      <td>(0.99, 0.01, 0.2, 10)</td>\n",
              "      <td>-366.70</td>\n",
              "    </tr>\n",
              "    <tr>\n",
              "      <th>12</th>\n",
              "      <td>(0.99, 0.1, 0.1, 5)</td>\n",
              "      <td>110.70</td>\n",
              "    </tr>\n",
              "    <tr>\n",
              "      <th>13</th>\n",
              "      <td>(0.99, 0.1, 0.1, 10)</td>\n",
              "      <td>-112.50</td>\n",
              "    </tr>\n",
              "    <tr>\n",
              "      <th>14</th>\n",
              "      <td>(0.99, 0.1, 0.2, 5)</td>\n",
              "      <td>-114.05</td>\n",
              "    </tr>\n",
              "    <tr>\n",
              "      <th>15</th>\n",
              "      <td>(0.99, 0.1, 0.2, 10)</td>\n",
              "      <td>363.35</td>\n",
              "    </tr>\n",
              "  </tbody>\n",
              "</table>\n",
              "</div>"
            ],
            "text/plain": [
              "                 RL_param  Average End Reward\n",
              "0     (0.9, 0.01, 0.1, 5)              247.10\n",
              "1    (0.9, 0.01, 0.1, 10)             -500.00\n",
              "2     (0.9, 0.01, 0.2, 5)             -461.25\n",
              "3    (0.9, 0.01, 0.2, 10)             -500.00\n",
              "4      (0.9, 0.1, 0.1, 5)             -298.50\n",
              "5     (0.9, 0.1, 0.1, 10)              121.55\n",
              "6      (0.9, 0.1, 0.2, 5)              262.60\n",
              "7     (0.9, 0.1, 0.2, 10)               -8.65\n",
              "8    (0.99, 0.01, 0.1, 5)             -115.60\n",
              "9   (0.99, 0.01, 0.1, 10)               42.50\n",
              "10   (0.99, 0.01, 0.2, 5)              400.55\n",
              "11  (0.99, 0.01, 0.2, 10)             -366.70\n",
              "12    (0.99, 0.1, 0.1, 5)              110.70\n",
              "13   (0.99, 0.1, 0.1, 10)             -112.50\n",
              "14    (0.99, 0.1, 0.2, 5)             -114.05\n",
              "15   (0.99, 0.1, 0.2, 10)              363.35"
            ]
          },
          "metadata": {
            "tags": []
          },
          "execution_count": 21
        }
      ]
    },
    {
      "cell_type": "markdown",
      "metadata": {
        "id": "Hc-gEM6J5-FQ"
      },
      "source": [
        "We use the following code to visualize the performance of hyperparameter settings. We can tell that the 'Average End Reward' is maximized at $(\\gamma, \\alpha, \\epsilon, nHidden)=(0.99, 0.1, 0.2, 5)$. We choose this hyperparameter setting as our final model and visualize our agent training outcomes. "
      ]
    },
    {
      "cell_type": "code",
      "metadata": {
        "id": "FnU3VTnU5-zK",
        "colab": {
          "base_uri": "https://localhost:8080/",
          "height": 680
        },
        "outputId": "95819694-f013-404e-8fc4-144f0a27af13"
      },
      "source": [
        "import warnings\n",
        "\n",
        "warnings.filterwarnings('ignore')  # suppress warning on legend\n",
        "\n",
        "fig, ax1 = plt.subplots(figsize=(14, 7), dpi=100)\n",
        "gs_result.plot(x='RL_param', y='Average End Reward', marker='o', ax=ax1, color='C0')\n",
        "ax1.set_xlabel('RL parameters\\n(gamma, alpha, final_epsilon, nHiddens)', fontsize=12)\n",
        "ax1.set_ylabel('Average End Reward', color='C0', fontsize=15)\n",
        "ax1.tick_params(axis='y', labelcolor='C0')\n",
        "ax1.set_xticks(np.arange(16))\n",
        "ax1.set_xticklabels(gs_result.RL_param, rotation=20)\n",
        "plt.show()"
      ],
      "execution_count": 22,
      "outputs": [
        {
          "output_type": "display_data",
          "data": {
            "image/png": "[encoded data removed]",
            "text/plain": [
              "<Figure size 1400x700 with 1 Axes>"
            ]
          },
          "metadata": {
            "tags": [],
            "needs_background": "light"
          }
        }
      ]
    },
    {
      "cell_type": "markdown",
      "metadata": {
        "id": "KGVBqEawM7w4"
      },
      "source": [
        "We use the chosen hyperparameter setting to train the RL and visualize our training performance as follows. We observe that although the best hyperparameters is chosen (based on the rewards), after 1000 episodes, the RLAgent does not seem to converge to a good point. The plot on the left shows the reward of each episode. The sum of rewards does not seem to be greater after the NN was trained throughout the episodes. The plot on the right shows the trace of the marble at the last episode. Starting at [2,2], the marble seems to be heading to the red region (the goal region) but the performance was not stable. "
      ]
    },
    {
      "cell_type": "code",
      "metadata": {
        "id": "ErR-m6OlM8OJ",
        "colab": {
          "base_uri": "https://localhost:8080/",
          "height": 498
        },
        "outputId": "5f5fe81f-f140-414d-d9c0-a5a60bb82471"
      },
      "source": [
        "agent = RLAgent1(env=Marble2D())\n",
        "agent.train(start=[2, 2], K=1000, gamma=0.9, rhoh=0.1, rhoo=0.1, epsilon=0.2,\n",
        "                    nHiddens=5, verbose=False, plot=True)  # start at [2,2]"
      ],
      "execution_count": 23,
      "outputs": [
        {
          "output_type": "display_data",
          "data": {
            "image/png": "[encoded data removed]",
            "text/plain": [
              "<Figure size 1152x576 with 2 Axes>"
            ]
          },
          "metadata": {
            "tags": [],
            "needs_background": "light"
          }
        }
      ]
    },
    {
      "cell_type": "markdown",
      "metadata": {
        "id": "CjVuZ2oK8um4"
      },
      "source": [
        "## Results for the Second Problem\n",
        "We follow the hyper-parameter tuning strategy as the first problem in this case. We are to tune the:\n",
        "- $\\gamma$ (discounting factor)\n",
        "- learning rate $\\alpha$ (we tune `rhoh` and `rhoo` at the same time, named as $\\alpha$)\n",
        "- $\\epsilon$ (we tune the **final epsilon value** only and **remains the initial epsilon value as 1**)\n",
        "- no. of hidden neurons\n",
        "\n",
        "We define the function below to locate good hyper-parameter combinations for our experiment. We use grid search to find the optimal combination of $(\\gamma, \\alpha, \\epsilon, nHidden)$, in which $\\gamma \\in \\lbrace0.9,0.99\\rbrace, \\alpha\\in\\lbrace0.01,0.1\\rbrace, \\epsilon\\in\\lbrace0.1,0.2\\rbrace$, and nHiddens$\\in\\lbrace5,10\\rbrace$.\n",
        "\n",
        "We train the agent using 100 episodes and record the average end reward for the last 20 episodes, for each hyparameter setting."
      ]
    },
    {
      "cell_type": "code",
      "metadata": {
        "id": "e3WAVIVy9Pns",
        "colab": {
          "base_uri": "https://localhost:8080/"
        },
        "outputId": "c922eaa5-f5c7-4b84-a539-47569b2ab89b"
      },
      "source": [
        "gs_result = grid_search_RL_params(RLAgent2, gym.make('MountainCar-v0'), [0.9, 0.99], [0.01, 0.1], [0.1, 0.2], [5, 10], debug=False)"
      ],
      "execution_count": null,
      "outputs": [
        {
          "output_type": "stream",
          "text": [
            "Hyperparameter (0.9, 0.01, 0.1, 5) training starts...\n",
            "Hyperparameter (0.9, 0.01, 0.1, 10) training starts...\n",
            "Hyperparameter (0.9, 0.01, 0.2, 5) training starts...\n",
            "Hyperparameter (0.9, 0.01, 0.2, 10) training starts...\n",
            "Hyperparameter (0.9, 0.1, 0.1, 5) training starts...\n",
            "Hyperparameter (0.9, 0.1, 0.1, 10) training starts...\n",
            "Hyperparameter (0.9, 0.1, 0.2, 5) training starts...\n",
            "Hyperparameter (0.9, 0.1, 0.2, 10) training starts...\n",
            "Hyperparameter (0.99, 0.01, 0.1, 5) training starts...\n",
            "Hyperparameter (0.99, 0.01, 0.1, 10) training starts...\n",
            "Hyperparameter (0.99, 0.01, 0.2, 5) training starts...\n",
            "Hyperparameter (0.99, 0.01, 0.2, 10) training starts...\n",
            "Hyperparameter (0.99, 0.1, 0.1, 5) training starts...\n",
            "Hyperparameter (0.99, 0.1, 0.1, 10) training starts...\n",
            "Hyperparameter (0.99, 0.1, 0.2, 5) training starts...\n",
            "Hyperparameter (0.99, 0.1, 0.2, 10) training starts...\n"
          ],
          "name": "stdout"
        }
      ]
    },
    {
      "cell_type": "code",
      "metadata": {
        "id": "cbAYoYNw9PYw",
        "colab": {
          "base_uri": "https://localhost:8080/",
          "height": 527
        },
        "outputId": "8178d165-c96c-48b1-a1fe-530e986c2b12"
      },
      "source": [
        "gs_result"
      ],
      "execution_count": null,
      "outputs": [
        {
          "output_type": "execute_result",
          "data": {
            "text/html": [
              "<div>\n",
              "<style scoped>\n",
              "    .dataframe tbody tr th:only-of-type {\n",
              "        vertical-align: middle;\n",
              "    }\n",
              "\n",
              "    .dataframe tbody tr th {\n",
              "        vertical-align: top;\n",
              "    }\n",
              "\n",
              "    .dataframe thead th {\n",
              "        text-align: right;\n",
              "    }\n",
              "</style>\n",
              "<table border=\"1\" class=\"dataframe\">\n",
              "  <thead>\n",
              "    <tr style=\"text-align: right;\">\n",
              "      <th></th>\n",
              "      <th>RL_param</th>\n",
              "      <th>Average End Reward</th>\n",
              "    </tr>\n",
              "  </thead>\n",
              "  <tbody>\n",
              "    <tr>\n",
              "      <th>0</th>\n",
              "      <td>(0.9, 0.01, 0.1, 5)</td>\n",
              "      <td>-200.0</td>\n",
              "    </tr>\n",
              "    <tr>\n",
              "      <th>1</th>\n",
              "      <td>(0.9, 0.01, 0.1, 10)</td>\n",
              "      <td>-200.0</td>\n",
              "    </tr>\n",
              "    <tr>\n",
              "      <th>2</th>\n",
              "      <td>(0.9, 0.01, 0.2, 5)</td>\n",
              "      <td>-200.0</td>\n",
              "    </tr>\n",
              "    <tr>\n",
              "      <th>3</th>\n",
              "      <td>(0.9, 0.01, 0.2, 10)</td>\n",
              "      <td>-200.0</td>\n",
              "    </tr>\n",
              "    <tr>\n",
              "      <th>4</th>\n",
              "      <td>(0.9, 0.1, 0.1, 5)</td>\n",
              "      <td>-200.0</td>\n",
              "    </tr>\n",
              "    <tr>\n",
              "      <th>5</th>\n",
              "      <td>(0.9, 0.1, 0.1, 10)</td>\n",
              "      <td>-200.0</td>\n",
              "    </tr>\n",
              "    <tr>\n",
              "      <th>6</th>\n",
              "      <td>(0.9, 0.1, 0.2, 5)</td>\n",
              "      <td>-200.0</td>\n",
              "    </tr>\n",
              "    <tr>\n",
              "      <th>7</th>\n",
              "      <td>(0.9, 0.1, 0.2, 10)</td>\n",
              "      <td>-200.0</td>\n",
              "    </tr>\n",
              "    <tr>\n",
              "      <th>8</th>\n",
              "      <td>(0.99, 0.01, 0.1, 5)</td>\n",
              "      <td>-200.0</td>\n",
              "    </tr>\n",
              "    <tr>\n",
              "      <th>9</th>\n",
              "      <td>(0.99, 0.01, 0.1, 10)</td>\n",
              "      <td>-200.0</td>\n",
              "    </tr>\n",
              "    <tr>\n",
              "      <th>10</th>\n",
              "      <td>(0.99, 0.01, 0.2, 5)</td>\n",
              "      <td>-200.0</td>\n",
              "    </tr>\n",
              "    <tr>\n",
              "      <th>11</th>\n",
              "      <td>(0.99, 0.01, 0.2, 10)</td>\n",
              "      <td>-200.0</td>\n",
              "    </tr>\n",
              "    <tr>\n",
              "      <th>12</th>\n",
              "      <td>(0.99, 0.1, 0.1, 5)</td>\n",
              "      <td>-200.0</td>\n",
              "    </tr>\n",
              "    <tr>\n",
              "      <th>13</th>\n",
              "      <td>(0.99, 0.1, 0.1, 10)</td>\n",
              "      <td>-200.0</td>\n",
              "    </tr>\n",
              "    <tr>\n",
              "      <th>14</th>\n",
              "      <td>(0.99, 0.1, 0.2, 5)</td>\n",
              "      <td>-200.0</td>\n",
              "    </tr>\n",
              "    <tr>\n",
              "      <th>15</th>\n",
              "      <td>(0.99, 0.1, 0.2, 10)</td>\n",
              "      <td>-200.0</td>\n",
              "    </tr>\n",
              "  </tbody>\n",
              "</table>\n",
              "</div>"
            ],
            "text/plain": [
              "                 RL_param  Average End Reward\n",
              "0     (0.9, 0.01, 0.1, 5)              -200.0\n",
              "1    (0.9, 0.01, 0.1, 10)              -200.0\n",
              "2     (0.9, 0.01, 0.2, 5)              -200.0\n",
              "3    (0.9, 0.01, 0.2, 10)              -200.0\n",
              "4      (0.9, 0.1, 0.1, 5)              -200.0\n",
              "5     (0.9, 0.1, 0.1, 10)              -200.0\n",
              "6      (0.9, 0.1, 0.2, 5)              -200.0\n",
              "7     (0.9, 0.1, 0.2, 10)              -200.0\n",
              "8    (0.99, 0.01, 0.1, 5)              -200.0\n",
              "9   (0.99, 0.01, 0.1, 10)              -200.0\n",
              "10   (0.99, 0.01, 0.2, 5)              -200.0\n",
              "11  (0.99, 0.01, 0.2, 10)              -200.0\n",
              "12    (0.99, 0.1, 0.1, 5)              -200.0\n",
              "13   (0.99, 0.1, 0.1, 10)              -200.0\n",
              "14    (0.99, 0.1, 0.2, 5)              -200.0\n",
              "15   (0.99, 0.1, 0.2, 10)              -200.0"
            ]
          },
          "metadata": {
            "tags": []
          },
          "execution_count": 74
        }
      ]
    },
    {
      "cell_type": "markdown",
      "metadata": {
        "id": "dgG3JDAl8vbU"
      },
      "source": [
        "We use the following code to visualize the performance of hyperparameter settings. We observe that all the RLAgents leads to a -200 reward, meaning that none of them has been helping the car to reach the destination. We arbitrarily chose the hyperparameters $(\\gamma, \\alpha, \\epsilon, nHidden)=(0.9, 0.2, 0.1, 10)$ and use this setting in our final model to visualize our agent training outcomes. "
      ]
    },
    {
      "cell_type": "code",
      "metadata": {
        "id": "pbwCGDtD9pmx",
        "colab": {
          "base_uri": "https://localhost:8080/",
          "height": 566
        },
        "outputId": "50e3d784-0747-4948-9502-c359a8b91f54"
      },
      "source": [
        "fig, ax1 = plt.subplots(figsize=(14, 7), dpi=100)\n",
        "gs_result.plot(x='RL_param', y='Average End Reward', marker='o', ax=ax1, color='C0')\n",
        "ax1.set_xlabel('RL parameters\\n(gamma, alpha, final_epsilon, nHiddens)', fontsize=12)\n",
        "ax1.set_ylabel('Average End Reward', color='C0', fontsize=15)\n",
        "ax1.tick_params(axis='y', labelcolor='C0')\n",
        "ax1.set_xticks(np.arange(16))\n",
        "ax1.set_xticklabels(gs_result.RL_param, rotation=20)\n",
        "plt.show()"
      ],
      "execution_count": null,
      "outputs": [
        {
          "output_type": "display_data",
          "data": {
            "image/png": "[encoded data removed]",
            "text/plain": [
              "<Figure size 1400x700 with 1 Axes>"
            ]
          },
          "metadata": {
            "tags": [],
            "needs_background": "light"
          }
        }
      ]
    },
    {
      "cell_type": "markdown",
      "metadata": {
        "id": "TpWocvxFMvvH"
      },
      "source": [
        "We use the chosen hyperparameter setting to train the RL and visualize our training performance as follows. We observe that after 100 episodes, the RLAgent does not seem to help the car reach to the destination even once. Seems to us the NN estimator is not converged to a good point. The plot below shows the reward of each episode, that throughout the episode the car is having a constant -200 reward. "
      ]
    },
    {
      "cell_type": "code",
      "metadata": {
        "id": "WiRDExBqMwd-",
        "colab": {
          "base_uri": "https://localhost:8080/",
          "height": 498
        },
        "outputId": "116c1f0a-6c24-4b5c-e6e8-416435a34b8b"
      },
      "source": [
        "agent = RLAgent2(env=gym.make('MountainCar-v0'))\n",
        "agent.train(K=100, gamma=0.9, rhoh=0.1, rhoo=0.1, epsilon=0.2,\n",
        "                    nHiddens=10, verbose=False, plot=True)"
      ],
      "execution_count": null,
      "outputs": [
        {
          "output_type": "display_data",
          "data": {
            "image/png": "[encoded data removed]",
            "text/plain": [
              "<Figure size 576x576 with 1 Axes>"
            ]
          },
          "metadata": {
            "tags": [],
            "needs_background": "light"
          }
        }
      ]
    },
    {
      "cell_type": "markdown",
      "metadata": {
        "id": "Hj5TvzxaeCd3"
      },
      "source": [
        "# V. Conclusions\n",
        "\n",
        "**Discuss the challenges or somethat that you learned. \n",
        "If you have any suggestion about the assignment, you can write about it.** \n",
        "\n",
        "In this assignment, we work on 2 RL problems using NN as the function estimator: the 2D marble movement problem and the mountain car problem. The marble environment are not hard to define and the RL problems are straightforward to solve. For the first problem, the greatest challenge we were facing is the convergence of the NN function estimator. The marble could not behave consistently and stay within the goal region. For the second problem, the greatest challenge was the right way to make the car move to its destination. We could not make the NN estimator converged to a point that can guarantee the car reach the destination. This might be due to the training episode is not enough for both estimators. "
      ]
    },
    {
      "cell_type": "markdown",
      "metadata": {
        "id": "be2FQNwOeCd4"
      },
      "source": [
        "# Extra Credit\n",
        "\n",
        "You will be qualified to earn an extra credit when you solve both problems with complete experimental results and discussions, following the bullets in results section for both. \n",
        "\n"
      ]
    },
    {
      "cell_type": "markdown",
      "metadata": {
        "id": "CdhYAF6teCd5"
      },
      "source": [
        "## Grading\n",
        "\n",
        "For this assignment, the grading rubric is a bit different. Please check it carefully. \n",
        "\n",
        "\n",
        "points | | description\n",
        "--|--|:--\n",
        "5 | Overview| states the objective and the appraoch \n",
        "25 | Problems | \n",
        " |10| 2D Marble Class\n",
        " | 5| Explanation of problem and class implementation\n",
        " | 5| Explanation of mountain car problem\n",
        " | 5| explanation of the codes to use MountainCarContinuous-v0 from OpenAI Gym\n",
        "25 | Methods | \n",
        " |10| RLAgent1 for the first problem\n",
        " | 5| Explanation of the RLAgent1\n",
        " | 5| RLAgent2 for the first problem\n",
        " | 5| Explanation of the RLAgent2\n",
        "40 | Results \n",
        " | 5| Reports the selected parameters \n",
        " |10| Experimental outputs that show the choice of parameters. How do you choose them?\n",
        " | 5| Visualization of learning and learned agent\n",
        " |10| Observations and analysis of learning results and plots\n",
        " |10| Results analysis (following the above four rubric criteria) for the second problem\n",
        "5 | Conclusions \n"
      ]
    }
  ]
}